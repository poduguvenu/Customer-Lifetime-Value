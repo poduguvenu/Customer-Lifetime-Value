{
  "nbformat": 4,
  "nbformat_minor": 0,
  "metadata": {
    "kernelspec": {
      "display_name": "Python 3",
      "language": "python",
      "name": "python3"
    },
    "language_info": {
      "codemirror_mode": {
        "name": "ipython",
        "version": 3
      },
      "file_extension": ".py",
      "mimetype": "text/x-python",
      "name": "python",
      "nbconvert_exporter": "python",
      "pygments_lexer": "ipython3",
      "version": "3.7.6"
    },
    "colab": {
      "name": "customer-lifetime-value-calculation.ipynb",
      "provenance": []
    }
  },
  "cells": [
    {
      "cell_type": "markdown",
      "metadata": {
        "id": "3ED2XHQqr2-9"
      },
      "source": [
        "# Customer Lifetime Value Calculation\n",
        "---\n",
        "In this notebook we will use BG/NBD (Beta Geometric/Negative Binomial Distribution) model to calculate CLV (Customer Lifetime Value) calculation with the help of `lifetimes` package\n",
        "\n",
        "`CLV = Expected No.of Transactions X Revenue per Transaction X Margin`\n",
        "\n",
        "- Expected No.of Transactions will be calculated using `BG/NBD model`\n",
        "- Revenue per Transaction will be calculated using `Gamma Gamma model`"
      ]
    },
    {
      "cell_type": "markdown",
      "metadata": {
        "id": "UwavfFmnOH31"
      },
      "source": [
        "![image.png](data:image/png;base64,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)"
      ]
    },
    {
      "cell_type": "markdown",
      "metadata": {
        "id": "0IdB6qQSsOwy"
      },
      "source": [
        "> ## Import Required Libraries"
      ]
    },
    {
      "cell_type": "code",
      "metadata": {
        "id": "YYaP4CbssOfG"
      },
      "source": [
        "import pandas as pd\n",
        "import matplotlib.pyplot as plt\n",
        "%matplotlib inline\n",
        "from lifetimes.plotting import *\n",
        "from lifetimes.utils import *\n",
        "from lifetimes import BetaGeoFitter\n",
        "from lifetimes.plotting import plot_frequency_recency_matrix\n",
        "from lifetimes.plotting import plot_probability_alive_matrix\n",
        "from lifetimes.plotting import plot_period_transactions\n",
        "from lifetimes import GammaGammaFitter"
      ],
      "execution_count": 30,
      "outputs": []
    },
    {
      "cell_type": "markdown",
      "metadata": {
        "id": "diCc1ScbwBgH"
      },
      "source": [
        "> ## Import the Dataset"
      ]
    },
    {
      "cell_type": "code",
      "metadata": {
        "colab": {
          "base_uri": "https://localhost:8080/",
          "height": 191
        },
        "id": "Y495Cnslv_5f",
        "outputId": "fd9db778-8150-404d-eb26-cdb881a6cce3"
      },
      "source": [
        "data = pd.read_excel('./Online Retail.xlsx')\n",
        "data.head()"
      ],
      "execution_count": 4,
      "outputs": [
        {
          "output_type": "execute_result",
          "data": {
            "text/html": [
              "<div>\n",
              "<style scoped>\n",
              "    .dataframe tbody tr th:only-of-type {\n",
              "        vertical-align: middle;\n",
              "    }\n",
              "\n",
              "    .dataframe tbody tr th {\n",
              "        vertical-align: top;\n",
              "    }\n",
              "\n",
              "    .dataframe thead th {\n",
              "        text-align: right;\n",
              "    }\n",
              "</style>\n",
              "<table border=\"1\" class=\"dataframe\">\n",
              "  <thead>\n",
              "    <tr style=\"text-align: right;\">\n",
              "      <th></th>\n",
              "      <th>InvoiceNo</th>\n",
              "      <th>StockCode</th>\n",
              "      <th>Description</th>\n",
              "      <th>Quantity</th>\n",
              "      <th>InvoiceDate</th>\n",
              "      <th>UnitPrice</th>\n",
              "      <th>CustomerID</th>\n",
              "      <th>Country</th>\n",
              "    </tr>\n",
              "  </thead>\n",
              "  <tbody>\n",
              "    <tr>\n",
              "      <th>0</th>\n",
              "      <td>536365</td>\n",
              "      <td>85123A</td>\n",
              "      <td>WHITE HANGING HEART T-LIGHT HOLDER</td>\n",
              "      <td>6</td>\n",
              "      <td>2010-12-01 08:26:00</td>\n",
              "      <td>2.55</td>\n",
              "      <td>17850.0</td>\n",
              "      <td>United Kingdom</td>\n",
              "    </tr>\n",
              "    <tr>\n",
              "      <th>1</th>\n",
              "      <td>536365</td>\n",
              "      <td>71053</td>\n",
              "      <td>WHITE METAL LANTERN</td>\n",
              "      <td>6</td>\n",
              "      <td>2010-12-01 08:26:00</td>\n",
              "      <td>3.39</td>\n",
              "      <td>17850.0</td>\n",
              "      <td>United Kingdom</td>\n",
              "    </tr>\n",
              "    <tr>\n",
              "      <th>2</th>\n",
              "      <td>536365</td>\n",
              "      <td>84406B</td>\n",
              "      <td>CREAM CUPID HEARTS COAT HANGER</td>\n",
              "      <td>8</td>\n",
              "      <td>2010-12-01 08:26:00</td>\n",
              "      <td>2.75</td>\n",
              "      <td>17850.0</td>\n",
              "      <td>United Kingdom</td>\n",
              "    </tr>\n",
              "    <tr>\n",
              "      <th>3</th>\n",
              "      <td>536365</td>\n",
              "      <td>84029G</td>\n",
              "      <td>KNITTED UNION FLAG HOT WATER BOTTLE</td>\n",
              "      <td>6</td>\n",
              "      <td>2010-12-01 08:26:00</td>\n",
              "      <td>3.39</td>\n",
              "      <td>17850.0</td>\n",
              "      <td>United Kingdom</td>\n",
              "    </tr>\n",
              "    <tr>\n",
              "      <th>4</th>\n",
              "      <td>536365</td>\n",
              "      <td>84029E</td>\n",
              "      <td>RED WOOLLY HOTTIE WHITE HEART.</td>\n",
              "      <td>6</td>\n",
              "      <td>2010-12-01 08:26:00</td>\n",
              "      <td>3.39</td>\n",
              "      <td>17850.0</td>\n",
              "      <td>United Kingdom</td>\n",
              "    </tr>\n",
              "  </tbody>\n",
              "</table>\n",
              "</div>"
            ],
            "text/plain": [
              "  InvoiceNo StockCode  ... CustomerID         Country\n",
              "0    536365    85123A  ...    17850.0  United Kingdom\n",
              "1    536365     71053  ...    17850.0  United Kingdom\n",
              "2    536365    84406B  ...    17850.0  United Kingdom\n",
              "3    536365    84029G  ...    17850.0  United Kingdom\n",
              "4    536365    84029E  ...    17850.0  United Kingdom\n",
              "\n",
              "[5 rows x 8 columns]"
            ]
          },
          "metadata": {
            "tags": []
          },
          "execution_count": 4
        }
      ]
    },
    {
      "cell_type": "code",
      "metadata": {
        "colab": {
          "base_uri": "https://localhost:8080/"
        },
        "id": "3mE4DRPLwbVM",
        "outputId": "622b4eda-4fa4-44c6-e418-7840e72f3879"
      },
      "source": [
        "data.shape"
      ],
      "execution_count": 5,
      "outputs": [
        {
          "output_type": "execute_result",
          "data": {
            "text/plain": [
              "(541909, 8)"
            ]
          },
          "metadata": {
            "tags": []
          },
          "execution_count": 5
        }
      ]
    },
    {
      "cell_type": "code",
      "metadata": {
        "colab": {
          "base_uri": "https://localhost:8080/"
        },
        "id": "E7zXSDCnwyCU",
        "outputId": "b306370c-83be-4dc9-9646-69438932ab9f"
      },
      "source": [
        "data.isnull().sum()"
      ],
      "execution_count": 6,
      "outputs": [
        {
          "output_type": "execute_result",
          "data": {
            "text/plain": [
              "InvoiceNo           0\n",
              "StockCode           0\n",
              "Description      1454\n",
              "Quantity            0\n",
              "InvoiceDate         0\n",
              "UnitPrice           0\n",
              "CustomerID     135080\n",
              "Country             0\n",
              "dtype: int64"
            ]
          },
          "metadata": {
            "tags": []
          },
          "execution_count": 6
        }
      ]
    },
    {
      "cell_type": "markdown",
      "metadata": {
        "id": "sn2Gb1V7w_Oo"
      },
      "source": [
        "> ### Remove the time portion from the `InvoiceDate` feature "
      ]
    },
    {
      "cell_type": "code",
      "metadata": {
        "id": "_Qo0G43Bw1yr"
      },
      "source": [
        "data['InvoiceDate'] = pd.to_datetime(data['InvoiceDate'], format = \"%m/%d/%Y %H:%M\").dt.date"
      ],
      "execution_count": 12,
      "outputs": []
    },
    {
      "cell_type": "code",
      "metadata": {
        "colab": {
          "base_uri": "https://localhost:8080/",
          "height": 191
        },
        "id": "ICoGHnlAzYSP",
        "outputId": "4ac8ebe0-4bbc-4813-d1d8-38f14020810d"
      },
      "source": [
        "data.head()"
      ],
      "execution_count": 13,
      "outputs": [
        {
          "output_type": "execute_result",
          "data": {
            "text/html": [
              "<div>\n",
              "<style scoped>\n",
              "    .dataframe tbody tr th:only-of-type {\n",
              "        vertical-align: middle;\n",
              "    }\n",
              "\n",
              "    .dataframe tbody tr th {\n",
              "        vertical-align: top;\n",
              "    }\n",
              "\n",
              "    .dataframe thead th {\n",
              "        text-align: right;\n",
              "    }\n",
              "</style>\n",
              "<table border=\"1\" class=\"dataframe\">\n",
              "  <thead>\n",
              "    <tr style=\"text-align: right;\">\n",
              "      <th></th>\n",
              "      <th>InvoiceNo</th>\n",
              "      <th>StockCode</th>\n",
              "      <th>Description</th>\n",
              "      <th>Quantity</th>\n",
              "      <th>InvoiceDate</th>\n",
              "      <th>UnitPrice</th>\n",
              "      <th>CustomerID</th>\n",
              "      <th>Country</th>\n",
              "    </tr>\n",
              "  </thead>\n",
              "  <tbody>\n",
              "    <tr>\n",
              "      <th>0</th>\n",
              "      <td>536365</td>\n",
              "      <td>85123A</td>\n",
              "      <td>WHITE HANGING HEART T-LIGHT HOLDER</td>\n",
              "      <td>6</td>\n",
              "      <td>2010-12-01</td>\n",
              "      <td>2.55</td>\n",
              "      <td>17850.0</td>\n",
              "      <td>United Kingdom</td>\n",
              "    </tr>\n",
              "    <tr>\n",
              "      <th>1</th>\n",
              "      <td>536365</td>\n",
              "      <td>71053</td>\n",
              "      <td>WHITE METAL LANTERN</td>\n",
              "      <td>6</td>\n",
              "      <td>2010-12-01</td>\n",
              "      <td>3.39</td>\n",
              "      <td>17850.0</td>\n",
              "      <td>United Kingdom</td>\n",
              "    </tr>\n",
              "    <tr>\n",
              "      <th>2</th>\n",
              "      <td>536365</td>\n",
              "      <td>84406B</td>\n",
              "      <td>CREAM CUPID HEARTS COAT HANGER</td>\n",
              "      <td>8</td>\n",
              "      <td>2010-12-01</td>\n",
              "      <td>2.75</td>\n",
              "      <td>17850.0</td>\n",
              "      <td>United Kingdom</td>\n",
              "    </tr>\n",
              "    <tr>\n",
              "      <th>3</th>\n",
              "      <td>536365</td>\n",
              "      <td>84029G</td>\n",
              "      <td>KNITTED UNION FLAG HOT WATER BOTTLE</td>\n",
              "      <td>6</td>\n",
              "      <td>2010-12-01</td>\n",
              "      <td>3.39</td>\n",
              "      <td>17850.0</td>\n",
              "      <td>United Kingdom</td>\n",
              "    </tr>\n",
              "    <tr>\n",
              "      <th>4</th>\n",
              "      <td>536365</td>\n",
              "      <td>84029E</td>\n",
              "      <td>RED WOOLLY HOTTIE WHITE HEART.</td>\n",
              "      <td>6</td>\n",
              "      <td>2010-12-01</td>\n",
              "      <td>3.39</td>\n",
              "      <td>17850.0</td>\n",
              "      <td>United Kingdom</td>\n",
              "    </tr>\n",
              "  </tbody>\n",
              "</table>\n",
              "</div>"
            ],
            "text/plain": [
              "  InvoiceNo StockCode  ... CustomerID         Country\n",
              "0    536365    85123A  ...    17850.0  United Kingdom\n",
              "1    536365     71053  ...    17850.0  United Kingdom\n",
              "2    536365    84406B  ...    17850.0  United Kingdom\n",
              "3    536365    84029G  ...    17850.0  United Kingdom\n",
              "4    536365    84029E  ...    17850.0  United Kingdom\n",
              "\n",
              "[5 rows x 8 columns]"
            ]
          },
          "metadata": {
            "tags": []
          },
          "execution_count": 13
        }
      ]
    },
    {
      "cell_type": "markdown",
      "metadata": {
        "id": "2sYadR-lzkRa"
      },
      "source": [
        "> There are 135,000 missing values in the `CustomerID` feature, and since our analysis is based on customers, we will remove these missing values"
      ]
    },
    {
      "cell_type": "code",
      "metadata": {
        "colab": {
          "base_uri": "https://localhost:8080/"
        },
        "id": "JR1yx7L-zf-D",
        "outputId": "a7d11317-93d5-47a2-f11b-9ec302a61698"
      },
      "source": [
        "data = data[pd.notnull(data['CustomerID'])]\n",
        "data.shape"
      ],
      "execution_count": 14,
      "outputs": [
        {
          "output_type": "execute_result",
          "data": {
            "text/plain": [
              "(406829, 8)"
            ]
          },
          "metadata": {
            "tags": []
          },
          "execution_count": 14
        }
      ]
    },
    {
      "cell_type": "markdown",
      "metadata": {
        "id": "DshAYm3C0mAD"
      },
      "source": [
        "> Keeping the records with non negative value in `Quantity` feature"
      ]
    },
    {
      "cell_type": "code",
      "metadata": {
        "colab": {
          "base_uri": "https://localhost:8080/"
        },
        "id": "BYXnJmUt0jW5",
        "outputId": "331e64c6-e49a-475f-a97d-1af9bcb02a73"
      },
      "source": [
        "data = data[data['Quantity'] > 0]\n",
        "data.shape"
      ],
      "execution_count": 17,
      "outputs": [
        {
          "output_type": "execute_result",
          "data": {
            "text/plain": [
              "(397924, 8)"
            ]
          },
          "metadata": {
            "tags": []
          },
          "execution_count": 17
        }
      ]
    },
    {
      "cell_type": "markdown",
      "metadata": {
        "id": "JVQmIg421aYK"
      },
      "source": [
        "> Add a new feature dipicting total sales, and extracting only required features"
      ]
    },
    {
      "cell_type": "code",
      "metadata": {
        "colab": {
          "base_uri": "https://localhost:8080/",
          "height": 191
        },
        "id": "xfc2zFNM1Jwi",
        "outputId": "4a41bcbb-5c32-4f01-f1af-1600d5112849"
      },
      "source": [
        "data['TotalSales'] = data['Quantity'] * data['UnitPrice']\n",
        "necessary_cols = ['CustomerID', 'InvoiceDate', 'TotalSales']\n",
        "data = data[necessary_cols]\n",
        "data.head()"
      ],
      "execution_count": 18,
      "outputs": [
        {
          "output_type": "execute_result",
          "data": {
            "text/html": [
              "<div>\n",
              "<style scoped>\n",
              "    .dataframe tbody tr th:only-of-type {\n",
              "        vertical-align: middle;\n",
              "    }\n",
              "\n",
              "    .dataframe tbody tr th {\n",
              "        vertical-align: top;\n",
              "    }\n",
              "\n",
              "    .dataframe thead th {\n",
              "        text-align: right;\n",
              "    }\n",
              "</style>\n",
              "<table border=\"1\" class=\"dataframe\">\n",
              "  <thead>\n",
              "    <tr style=\"text-align: right;\">\n",
              "      <th></th>\n",
              "      <th>CustomerID</th>\n",
              "      <th>InvoiceDate</th>\n",
              "      <th>TotalSales</th>\n",
              "    </tr>\n",
              "  </thead>\n",
              "  <tbody>\n",
              "    <tr>\n",
              "      <th>0</th>\n",
              "      <td>17850.0</td>\n",
              "      <td>2010-12-01</td>\n",
              "      <td>15.30</td>\n",
              "    </tr>\n",
              "    <tr>\n",
              "      <th>1</th>\n",
              "      <td>17850.0</td>\n",
              "      <td>2010-12-01</td>\n",
              "      <td>20.34</td>\n",
              "    </tr>\n",
              "    <tr>\n",
              "      <th>2</th>\n",
              "      <td>17850.0</td>\n",
              "      <td>2010-12-01</td>\n",
              "      <td>22.00</td>\n",
              "    </tr>\n",
              "    <tr>\n",
              "      <th>3</th>\n",
              "      <td>17850.0</td>\n",
              "      <td>2010-12-01</td>\n",
              "      <td>20.34</td>\n",
              "    </tr>\n",
              "    <tr>\n",
              "      <th>4</th>\n",
              "      <td>17850.0</td>\n",
              "      <td>2010-12-01</td>\n",
              "      <td>20.34</td>\n",
              "    </tr>\n",
              "  </tbody>\n",
              "</table>\n",
              "</div>"
            ],
            "text/plain": [
              "   CustomerID InvoiceDate  TotalSales\n",
              "0     17850.0  2010-12-01       15.30\n",
              "1     17850.0  2010-12-01       20.34\n",
              "2     17850.0  2010-12-01       22.00\n",
              "3     17850.0  2010-12-01       20.34\n",
              "4     17850.0  2010-12-01       20.34"
            ]
          },
          "metadata": {
            "tags": []
          },
          "execution_count": 18
        }
      ]
    },
    {
      "cell_type": "markdown",
      "metadata": {
        "id": "iC1uI4eL2Yhg"
      },
      "source": [
        "> Print records pertaining unique `CustomerID`"
      ]
    },
    {
      "cell_type": "code",
      "metadata": {
        "colab": {
          "base_uri": "https://localhost:8080/"
        },
        "id": "GySQxE1D2A62",
        "outputId": "2ff195f7-1948-4dca-d005-e77aefe69a25"
      },
      "source": [
        "print('No.of Unique CustomerIDs: ', data['CustomerID'].nunique())"
      ],
      "execution_count": 21,
      "outputs": [
        {
          "output_type": "stream",
          "text": [
            "No.of Unique CustomerIDs:  4339\n"
          ],
          "name": "stdout"
        }
      ]
    },
    {
      "cell_type": "markdown",
      "metadata": {
        "id": "eDTsl3sd3WSi"
      },
      "source": [
        "> Check the last order date"
      ]
    },
    {
      "cell_type": "code",
      "metadata": {
        "colab": {
          "base_uri": "https://localhost:8080/"
        },
        "id": "sAcRHo7S3F0b",
        "outputId": "2493d661-d6ac-407b-abd4-1977ac80c486"
      },
      "source": [
        "last_order_date = data['InvoiceDate'].max()\n",
        "print('Last order date: ', last_order_date)\n",
        "print('----------------------------------------')\n",
        "print(data[data['CustomerID'] == 12346])"
      ],
      "execution_count": 22,
      "outputs": [
        {
          "output_type": "stream",
          "text": [
            "Last order date:  2011-12-09\n",
            "----------------------------------------\n",
            "       CustomerID InvoiceDate  TotalSales\n",
            "61619     12346.0  2011-01-18     77183.6\n"
          ],
          "name": "stdout"
        }
      ]
    },
    {
      "cell_type": "markdown",
      "metadata": {
        "id": "9pDD_xL_4YX7"
      },
      "source": [
        "> Using built-in utility functions from `lifetimes` package to transform the transactional data (one row per purchase) into summary data (a frequency, recency, age, and monetary)"
      ]
    },
    {
      "cell_type": "code",
      "metadata": {
        "colab": {
          "base_uri": "https://localhost:8080/",
          "height": 191
        },
        "id": "d3JYfs7g4CrI",
        "outputId": "76e4ecbd-6fd9-4a1a-fb65-050f111a4950"
      },
      "source": [
        "lf_data = summary_data_from_transaction_data(data, 'CustomerID', 'InvoiceDate', monetary_value_col = 'TotalSales', observation_period_end = last_order_date)\n",
        "lf_data.reset_index().head()"
      ],
      "execution_count": 32,
      "outputs": [
        {
          "output_type": "execute_result",
          "data": {
            "text/html": [
              "<div>\n",
              "<style scoped>\n",
              "    .dataframe tbody tr th:only-of-type {\n",
              "        vertical-align: middle;\n",
              "    }\n",
              "\n",
              "    .dataframe tbody tr th {\n",
              "        vertical-align: top;\n",
              "    }\n",
              "\n",
              "    .dataframe thead th {\n",
              "        text-align: right;\n",
              "    }\n",
              "</style>\n",
              "<table border=\"1\" class=\"dataframe\">\n",
              "  <thead>\n",
              "    <tr style=\"text-align: right;\">\n",
              "      <th></th>\n",
              "      <th>CustomerID</th>\n",
              "      <th>frequency</th>\n",
              "      <th>recency</th>\n",
              "      <th>T</th>\n",
              "      <th>monetary_value</th>\n",
              "    </tr>\n",
              "  </thead>\n",
              "  <tbody>\n",
              "    <tr>\n",
              "      <th>0</th>\n",
              "      <td>12346.0</td>\n",
              "      <td>0.0</td>\n",
              "      <td>0.0</td>\n",
              "      <td>325.0</td>\n",
              "      <td>0.000000</td>\n",
              "    </tr>\n",
              "    <tr>\n",
              "      <th>1</th>\n",
              "      <td>12347.0</td>\n",
              "      <td>6.0</td>\n",
              "      <td>365.0</td>\n",
              "      <td>367.0</td>\n",
              "      <td>599.701667</td>\n",
              "    </tr>\n",
              "    <tr>\n",
              "      <th>2</th>\n",
              "      <td>12348.0</td>\n",
              "      <td>3.0</td>\n",
              "      <td>283.0</td>\n",
              "      <td>358.0</td>\n",
              "      <td>301.480000</td>\n",
              "    </tr>\n",
              "    <tr>\n",
              "      <th>3</th>\n",
              "      <td>12349.0</td>\n",
              "      <td>0.0</td>\n",
              "      <td>0.0</td>\n",
              "      <td>18.0</td>\n",
              "      <td>0.000000</td>\n",
              "    </tr>\n",
              "    <tr>\n",
              "      <th>4</th>\n",
              "      <td>12350.0</td>\n",
              "      <td>0.0</td>\n",
              "      <td>0.0</td>\n",
              "      <td>310.0</td>\n",
              "      <td>0.000000</td>\n",
              "    </tr>\n",
              "  </tbody>\n",
              "</table>\n",
              "</div>"
            ],
            "text/plain": [
              "   CustomerID  frequency  recency      T  monetary_value\n",
              "0     12346.0        0.0      0.0  325.0        0.000000\n",
              "1     12347.0        6.0    365.0  367.0      599.701667\n",
              "2     12348.0        3.0    283.0  358.0      301.480000\n",
              "3     12349.0        0.0      0.0   18.0        0.000000\n",
              "4     12350.0        0.0      0.0  310.0        0.000000"
            ]
          },
          "metadata": {
            "tags": []
          },
          "execution_count": 32
        }
      ]
    },
    {
      "cell_type": "markdown",
      "metadata": {
        "id": "b4PQ_xTP8U8m"
      },
      "source": [
        "> Create histogram to find out how many customers purchased item only once"
      ]
    },
    {
      "cell_type": "code",
      "metadata": {
        "colab": {
          "base_uri": "https://localhost:8080/",
          "height": 443
        },
        "id": "M9CkGo1A6Ak4",
        "outputId": "b8126c56-ad06-4b38-a8c0-b957d2fdc3b0"
      },
      "source": [
        "%matplotlib inline\n",
        "\n",
        "lf_data['frequency'].plot(kind='hist', bins=50)\n",
        "print(lf_data['frequency'].describe())\n",
        "print('-----------------------------------------------')\n",
        "one_time_buyers = round(sum(lf_data['frequency'] == 0) / float(len(lf_data)) * 100, 2)\n",
        "print('Percentage of customers purchase the item only once: ', one_time_buyers, '%')"
      ],
      "execution_count": 33,
      "outputs": [
        {
          "output_type": "stream",
          "text": [
            "count    4339.000000\n",
            "mean        2.864024\n",
            "std         5.952745\n",
            "min         0.000000\n",
            "25%         0.000000\n",
            "50%         1.000000\n",
            "75%         3.000000\n",
            "max       131.000000\n",
            "Name: frequency, dtype: float64\n",
            "-----------------------------------------------\n",
            "Percentage of customers purchase the item only once:  35.7 %\n"
          ],
          "name": "stdout"
        },
        {
          "output_type": "display_data",
          "data": {
            "image/png": "[encoded data removed]",
            "text/plain": [
              "<Figure size 432x288 with 1 Axes>"
            ]
          },
          "metadata": {
            "tags": [],
            "needs_background": "light"
          }
        }
      ]
    },
    {
      "cell_type": "markdown",
      "metadata": {
        "id": "jQvNKZfy-a20"
      },
      "source": [
        "> ## Frequency/Recency Analysis using `BG/NBD` model"
      ]
    },
    {
      "cell_type": "code",
      "metadata": {
        "colab": {
          "base_uri": "https://localhost:8080/"
        },
        "id": "EOV5r16A9u5b",
        "outputId": "598ad023-4b21-48e1-ba06-db5fed23f435"
      },
      "source": [
        "from lifetimes import BetaGeoFitter\n",
        "\n",
        "bgf = BetaGeoFitter(penalizer_coef = 0)\n",
        "bgf.fit(lf_data['frequency'], lf_data['recency'], lf_data['T'])\n",
        "print(bgf)"
      ],
      "execution_count": 34,
      "outputs": [
        {
          "output_type": "stream",
          "text": [
            "<lifetimes.BetaGeoFitter: fitted with 4339 subjects, a: 0.00, alpha: 68.89, b: 6.75, r: 0.83>\n"
          ],
          "name": "stdout"
        }
      ]
    },
    {
      "cell_type": "code",
      "metadata": {
        "colab": {
          "base_uri": "https://localhost:8080/",
          "height": 162
        },
        "id": "g6uVivZH_f-z",
        "outputId": "f0460a99-d608-434b-aaea-ad5bf60dbcb8"
      },
      "source": [
        "bgf.summary"
      ],
      "execution_count": 35,
      "outputs": [
        {
          "output_type": "execute_result",
          "data": {
            "text/html": [
              "<div>\n",
              "<style scoped>\n",
              "    .dataframe tbody tr th:only-of-type {\n",
              "        vertical-align: middle;\n",
              "    }\n",
              "\n",
              "    .dataframe tbody tr th {\n",
              "        vertical-align: top;\n",
              "    }\n",
              "\n",
              "    .dataframe thead th {\n",
              "        text-align: right;\n",
              "    }\n",
              "</style>\n",
              "<table border=\"1\" class=\"dataframe\">\n",
              "  <thead>\n",
              "    <tr style=\"text-align: right;\">\n",
              "      <th></th>\n",
              "      <th>coef</th>\n",
              "      <th>se(coef)</th>\n",
              "      <th>lower 95% bound</th>\n",
              "      <th>upper 95% bound</th>\n",
              "    </tr>\n",
              "  </thead>\n",
              "  <tbody>\n",
              "    <tr>\n",
              "      <th>r</th>\n",
              "      <td>0.826433</td>\n",
              "      <td>0.026780</td>\n",
              "      <td>0.773944</td>\n",
              "      <td>0.878922</td>\n",
              "    </tr>\n",
              "    <tr>\n",
              "      <th>alpha</th>\n",
              "      <td>68.890678</td>\n",
              "      <td>2.611055</td>\n",
              "      <td>63.773011</td>\n",
              "      <td>74.008345</td>\n",
              "    </tr>\n",
              "    <tr>\n",
              "      <th>a</th>\n",
              "      <td>0.003443</td>\n",
              "      <td>0.010347</td>\n",
              "      <td>-0.016837</td>\n",
              "      <td>0.023722</td>\n",
              "    </tr>\n",
              "    <tr>\n",
              "      <th>b</th>\n",
              "      <td>6.749363</td>\n",
              "      <td>22.412933</td>\n",
              "      <td>-37.179985</td>\n",
              "      <td>50.678711</td>\n",
              "    </tr>\n",
              "  </tbody>\n",
              "</table>\n",
              "</div>"
            ],
            "text/plain": [
              "            coef   se(coef)  lower 95% bound  upper 95% bound\n",
              "r       0.826433   0.026780         0.773944         0.878922\n",
              "alpha  68.890678   2.611055        63.773011        74.008345\n",
              "a       0.003443   0.010347        -0.016837         0.023722\n",
              "b       6.749363  22.412933       -37.179985        50.678711"
            ]
          },
          "metadata": {
            "tags": []
          },
          "execution_count": 35
        }
      ]
    },
    {
      "cell_type": "markdown",
      "metadata": {
        "id": "1t3BMuEg_oSg"
      },
      "source": [
        "> ## Visualizing Frequency/Recency matrix"
      ]
    },
    {
      "cell_type": "code",
      "metadata": {
        "colab": {
          "base_uri": "https://localhost:8080/",
          "height": 543
        },
        "id": "LJlYepIf_iM1",
        "outputId": "097e82d5-5771-42bf-d3e0-5d13d8f90fe5"
      },
      "source": [
        "fig = plt.figure(figsize = (12, 8))\n",
        "plot_frequency_recency_matrix(bgf)"
      ],
      "execution_count": 36,
      "outputs": [
        {
          "output_type": "execute_result",
          "data": {
            "text/plain": [
              "<matplotlib.axes._subplots.AxesSubplot at 0x7f7660da3250>"
            ]
          },
          "metadata": {
            "tags": []
          },
          "execution_count": 36
        },
        {
          "output_type": "display_data",
          "data": {
            "image/png": "[encoded data removed]",
            "text/plain": [
              "<Figure size 864x576 with 2 Axes>"
            ]
          },
          "metadata": {
            "tags": [],
            "needs_background": "light"
          }
        }
      ]
    },
    {
      "cell_type": "markdown",
      "metadata": {
        "id": "cqgA5sDeC_v2"
      },
      "source": [
        "> ## Predict if the customers are surely alive"
      ]
    },
    {
      "cell_type": "code",
      "metadata": {
        "colab": {
          "base_uri": "https://localhost:8080/",
          "height": 543
        },
        "id": "kBItMRPy_3t4",
        "outputId": "84b3f812-ea26-4c76-fd73-19b4233989e5"
      },
      "source": [
        "from lifetimes.plotting import plot_probability_alive_matrix\n",
        "\n",
        "fig = plt.figure(figsize = (12, 8))\n",
        "plot_probability_alive_matrix(bgf)"
      ],
      "execution_count": 37,
      "outputs": [
        {
          "output_type": "execute_result",
          "data": {
            "text/plain": [
              "<matplotlib.axes._subplots.AxesSubplot at 0x7f765df0bf10>"
            ]
          },
          "metadata": {
            "tags": []
          },
          "execution_count": 37
        },
        {
          "output_type": "display_data",
          "data": {
            "image/png": "[encoded data removed]",
            "text/plain": [
              "<Figure size 864x576 with 2 Axes>"
            ]
          },
          "metadata": {
            "tags": [],
            "needs_background": "light"
          }
        }
      ]
    },
    {
      "cell_type": "markdown",
      "metadata": {
        "id": "XuVeaKGOEJNT"
      },
      "source": [
        "> ## Predict future transaction in next 10 days i.e. top 10 customers that the model expects them to make purchases in the next 10 days, based on historical data"
      ]
    },
    {
      "cell_type": "code",
      "metadata": {
        "colab": {
          "base_uri": "https://localhost:8080/",
          "height": 335
        },
        "id": "qWnsxjAODfJf",
        "outputId": "b148bc96-862f-4b6a-dea4-4686d473c764"
      },
      "source": [
        "t = 10\n",
        "lf_data['pred_num_txn'] = round(bgf.conditional_expected_number_of_purchases_up_to_time(t, lf_data['frequency'], lf_data['recency'], lf_data['T']), 2)\n",
        "lf_data.sort_values(by = 'pred_num_txn', ascending=False).reset_index().head(10)"
      ],
      "execution_count": 39,
      "outputs": [
        {
          "output_type": "execute_result",
          "data": {
            "text/html": [
              "<div>\n",
              "<style scoped>\n",
              "    .dataframe tbody tr th:only-of-type {\n",
              "        vertical-align: middle;\n",
              "    }\n",
              "\n",
              "    .dataframe tbody tr th {\n",
              "        vertical-align: top;\n",
              "    }\n",
              "\n",
              "    .dataframe thead th {\n",
              "        text-align: right;\n",
              "    }\n",
              "</style>\n",
              "<table border=\"1\" class=\"dataframe\">\n",
              "  <thead>\n",
              "    <tr style=\"text-align: right;\">\n",
              "      <th></th>\n",
              "      <th>CustomerID</th>\n",
              "      <th>frequency</th>\n",
              "      <th>recency</th>\n",
              "      <th>T</th>\n",
              "      <th>monetary_value</th>\n",
              "      <th>pred_num_txn</th>\n",
              "    </tr>\n",
              "  </thead>\n",
              "  <tbody>\n",
              "    <tr>\n",
              "      <th>0</th>\n",
              "      <td>14911.0</td>\n",
              "      <td>131.0</td>\n",
              "      <td>372.0</td>\n",
              "      <td>373.0</td>\n",
              "      <td>1093.661679</td>\n",
              "      <td>2.98</td>\n",
              "    </tr>\n",
              "    <tr>\n",
              "      <th>1</th>\n",
              "      <td>12748.0</td>\n",
              "      <td>113.0</td>\n",
              "      <td>373.0</td>\n",
              "      <td>373.0</td>\n",
              "      <td>298.360885</td>\n",
              "      <td>2.58</td>\n",
              "    </tr>\n",
              "    <tr>\n",
              "      <th>2</th>\n",
              "      <td>17841.0</td>\n",
              "      <td>111.0</td>\n",
              "      <td>372.0</td>\n",
              "      <td>373.0</td>\n",
              "      <td>364.452162</td>\n",
              "      <td>2.53</td>\n",
              "    </tr>\n",
              "    <tr>\n",
              "      <th>3</th>\n",
              "      <td>15311.0</td>\n",
              "      <td>89.0</td>\n",
              "      <td>373.0</td>\n",
              "      <td>373.0</td>\n",
              "      <td>677.729438</td>\n",
              "      <td>2.03</td>\n",
              "    </tr>\n",
              "    <tr>\n",
              "      <th>4</th>\n",
              "      <td>14606.0</td>\n",
              "      <td>88.0</td>\n",
              "      <td>372.0</td>\n",
              "      <td>373.0</td>\n",
              "      <td>135.890114</td>\n",
              "      <td>2.01</td>\n",
              "    </tr>\n",
              "    <tr>\n",
              "      <th>5</th>\n",
              "      <td>12971.0</td>\n",
              "      <td>70.0</td>\n",
              "      <td>369.0</td>\n",
              "      <td>372.0</td>\n",
              "      <td>159.211286</td>\n",
              "      <td>1.61</td>\n",
              "    </tr>\n",
              "    <tr>\n",
              "      <th>6</th>\n",
              "      <td>13089.0</td>\n",
              "      <td>65.0</td>\n",
              "      <td>367.0</td>\n",
              "      <td>369.0</td>\n",
              "      <td>893.714308</td>\n",
              "      <td>1.50</td>\n",
              "    </tr>\n",
              "    <tr>\n",
              "      <th>7</th>\n",
              "      <td>14527.0</td>\n",
              "      <td>53.0</td>\n",
              "      <td>367.0</td>\n",
              "      <td>369.0</td>\n",
              "      <td>155.016415</td>\n",
              "      <td>1.23</td>\n",
              "    </tr>\n",
              "    <tr>\n",
              "      <th>8</th>\n",
              "      <td>13798.0</td>\n",
              "      <td>52.0</td>\n",
              "      <td>371.0</td>\n",
              "      <td>372.0</td>\n",
              "      <td>706.650962</td>\n",
              "      <td>1.20</td>\n",
              "    </tr>\n",
              "    <tr>\n",
              "      <th>9</th>\n",
              "      <td>16422.0</td>\n",
              "      <td>47.0</td>\n",
              "      <td>352.0</td>\n",
              "      <td>369.0</td>\n",
              "      <td>702.472340</td>\n",
              "      <td>1.09</td>\n",
              "    </tr>\n",
              "  </tbody>\n",
              "</table>\n",
              "</div>"
            ],
            "text/plain": [
              "   CustomerID  frequency  recency      T  monetary_value  pred_num_txn\n",
              "0     14911.0      131.0    372.0  373.0     1093.661679          2.98\n",
              "1     12748.0      113.0    373.0  373.0      298.360885          2.58\n",
              "2     17841.0      111.0    372.0  373.0      364.452162          2.53\n",
              "3     15311.0       89.0    373.0  373.0      677.729438          2.03\n",
              "4     14606.0       88.0    372.0  373.0      135.890114          2.01\n",
              "5     12971.0       70.0    369.0  372.0      159.211286          1.61\n",
              "6     13089.0       65.0    367.0  369.0      893.714308          1.50\n",
              "7     14527.0       53.0    367.0  369.0      155.016415          1.23\n",
              "8     13798.0       52.0    371.0  372.0      706.650962          1.20\n",
              "9     16422.0       47.0    352.0  369.0      702.472340          1.09"
            ]
          },
          "metadata": {
            "tags": []
          },
          "execution_count": 39
        }
      ]
    },
    {
      "cell_type": "markdown",
      "metadata": {
        "id": "2a5MJ5daGfGr"
      },
      "source": [
        "> ## Assessing the model fit"
      ]
    },
    {
      "cell_type": "code",
      "metadata": {
        "colab": {
          "base_uri": "https://localhost:8080/",
          "height": 308
        },
        "id": "PrkYpNQmFcNt",
        "outputId": "65c2019c-c3b5-4d14-8308-1192260cceae"
      },
      "source": [
        "from lifetimes.plotting import plot_period_transactions\n",
        "\n",
        "plot_period_transactions(bgf)"
      ],
      "execution_count": 40,
      "outputs": [
        {
          "output_type": "execute_result",
          "data": {
            "text/plain": [
              "<matplotlib.axes._subplots.AxesSubplot at 0x7f76603d7e90>"
            ]
          },
          "metadata": {
            "tags": []
          },
          "execution_count": 40
        },
        {
          "output_type": "display_data",
          "data": {
            "image/png": "[encoded data removed]",
            "text/plain": [
              "<Figure size 432x288 with 1 Axes>"
            ]
          },
          "metadata": {
            "tags": [],
            "needs_background": "light"
          }
        }
      ]
    },
    {
      "cell_type": "markdown",
      "metadata": {
        "id": "W7x0g0jYG6-C"
      },
      "source": [
        "> ## Customer's future transaction prediction for next 10 days\n",
        "\n",
        "> `OBSERVATION`: Our model predicts that customer `14911`'s future transaction is appx 3 in 10 days"
      ]
    },
    {
      "cell_type": "code",
      "metadata": {
        "colab": {
          "base_uri": "https://localhost:8080/"
        },
        "id": "g7LmIthZGxz-",
        "outputId": "07f57dfa-a872-4b05-c7c4-dda974e08cd9"
      },
      "source": [
        "t = 10\n",
        "individual = lf_data.loc[14911]\n",
        "bgf.predict(t, individual['frequency'], individual['recency'], individual['T'])"
      ],
      "execution_count": 41,
      "outputs": [
        {
          "output_type": "execute_result",
          "data": {
            "text/plain": [
              "2.9830238639020674"
            ]
          },
          "metadata": {
            "tags": []
          },
          "execution_count": 41
        }
      ]
    },
    {
      "cell_type": "markdown",
      "metadata": {
        "id": "w22TQPtPICXU"
      },
      "source": [
        "> ## Check if there is correlation between monetary value and frequency in order to use `gamma gamma model` for `CLV` calculation"
      ]
    },
    {
      "cell_type": "code",
      "metadata": {
        "colab": {
          "base_uri": "https://localhost:8080/",
          "height": 105
        },
        "id": "tQs6f6yJH5I2",
        "outputId": "f8776024-a4f4-4977-fb63-2d84c2407fc6"
      },
      "source": [
        "lf_data[['monetary_value', 'frequency']].corr()"
      ],
      "execution_count": 42,
      "outputs": [
        {
          "output_type": "execute_result",
          "data": {
            "text/html": [
              "<div>\n",
              "<style scoped>\n",
              "    .dataframe tbody tr th:only-of-type {\n",
              "        vertical-align: middle;\n",
              "    }\n",
              "\n",
              "    .dataframe tbody tr th {\n",
              "        vertical-align: top;\n",
              "    }\n",
              "\n",
              "    .dataframe thead th {\n",
              "        text-align: right;\n",
              "    }\n",
              "</style>\n",
              "<table border=\"1\" class=\"dataframe\">\n",
              "  <thead>\n",
              "    <tr style=\"text-align: right;\">\n",
              "      <th></th>\n",
              "      <th>monetary_value</th>\n",
              "      <th>frequency</th>\n",
              "    </tr>\n",
              "  </thead>\n",
              "  <tbody>\n",
              "    <tr>\n",
              "      <th>monetary_value</th>\n",
              "      <td>1.000000</td>\n",
              "      <td>0.046161</td>\n",
              "    </tr>\n",
              "    <tr>\n",
              "      <th>frequency</th>\n",
              "      <td>0.046161</td>\n",
              "      <td>1.000000</td>\n",
              "    </tr>\n",
              "  </tbody>\n",
              "</table>\n",
              "</div>"
            ],
            "text/plain": [
              "                monetary_value  frequency\n",
              "monetary_value        1.000000   0.046161\n",
              "frequency             0.046161   1.000000"
            ]
          },
          "metadata": {
            "tags": []
          },
          "execution_count": 42
        }
      ]
    },
    {
      "cell_type": "markdown",
      "metadata": {
        "id": "Xk-saglYIgfx"
      },
      "source": [
        "> ## Shortlist customers who had at least one repeat purchase with the company"
      ]
    },
    {
      "cell_type": "code",
      "metadata": {
        "colab": {
          "base_uri": "https://localhost:8080/"
        },
        "id": "TrzA1H5dIYfG",
        "outputId": "b339446b-8854-4ab8-b43f-7cb3fcc11d4b"
      },
      "source": [
        "shortlisted_customers = lf_data[lf_data['frequency'] > 0]\n",
        "print(shortlisted_customers.head().reset_index())\n",
        "print('--------------------------------------------------')\n",
        "print('The number of Returning Customers are: ', len(shortlisted_customers))"
      ],
      "execution_count": 43,
      "outputs": [
        {
          "output_type": "stream",
          "text": [
            "   CustomerID  frequency  recency      T  monetary_value  pred_num_txn\n",
            "0     12347.0        6.0    365.0  367.0      599.701667          0.16\n",
            "1     12348.0        3.0    283.0  358.0      301.480000          0.09\n",
            "2     12352.0        6.0    260.0  296.0      368.256667          0.19\n",
            "3     12356.0        2.0    303.0  325.0      269.905000          0.07\n",
            "4     12358.0        1.0    149.0  150.0      683.200000          0.08\n",
            "--------------------------------------------------\n",
            "The number of Returning Customers are:  2790\n"
          ],
          "name": "stdout"
        }
      ]
    },
    {
      "cell_type": "markdown",
      "metadata": {
        "id": "hKR3B_aqJl8s"
      },
      "source": [
        "> ## Train `gamma-gamma` model by taking into account the monetary value"
      ]
    },
    {
      "cell_type": "code",
      "metadata": {
        "colab": {
          "base_uri": "https://localhost:8080/"
        },
        "id": "sdFKS2DIJDBy",
        "outputId": "2dbd6dde-adb8-47bc-881e-75420c92dd57"
      },
      "source": [
        "from lifetimes import GammaGammaFitter\n",
        "\n",
        "ggf = GammaGammaFitter(penalizer_coef = 0)\n",
        "ggf.fit(shortlisted_customers['frequency'], shortlisted_customers['monetary_value'])\n",
        "print(ggf)"
      ],
      "execution_count": 44,
      "outputs": [
        {
          "output_type": "stream",
          "text": [
            "<lifetimes.GammaGammaFitter: fitted with 2790 subjects, p: 2.10, q: 3.45, v: 485.57>\n"
          ],
          "name": "stdout"
        }
      ]
    },
    {
      "cell_type": "markdown",
      "metadata": {
        "id": "0XJ25Vc-KNjy"
      },
      "source": [
        "> ## After applying `Gamma Gamma` model, now we can estimate average transaction value for each customer"
      ]
    },
    {
      "cell_type": "code",
      "metadata": {
        "colab": {
          "base_uri": "https://localhost:8080/"
        },
        "id": "P8Wz2ZFcKLPX",
        "outputId": "d9b5e9be-3841-4ded-837d-00ab57d2de38"
      },
      "source": [
        "print(ggf.conditional_expected_average_profit(lf_data['frequency'], lf_data['monetary_value']).head(10))"
      ],
      "execution_count": 45,
      "outputs": [
        {
          "output_type": "stream",
          "text": [
            "CustomerID\n",
            "12346.0    416.917667\n",
            "12347.0    569.988807\n",
            "12348.0    333.762672\n",
            "12349.0    416.917667\n",
            "12350.0    416.917667\n",
            "12352.0    376.166864\n",
            "12353.0    416.917667\n",
            "12354.0    416.917667\n",
            "12355.0    416.917667\n",
            "12356.0    324.008941\n",
            "dtype: float64\n"
          ],
          "name": "stdout"
        }
      ]
    },
    {
      "cell_type": "code",
      "metadata": {
        "colab": {
          "base_uri": "https://localhost:8080/",
          "height": 191
        },
        "id": "MWgt_sGCKu4u",
        "outputId": "0659d40d-b5c4-4762-fec0-c4792ebe27f1"
      },
      "source": [
        "lf_data['pred_txn_value'] = round(ggf.conditional_expected_average_profit(lf_data['frequency'], lf_data['monetary_value']), 2)\n",
        "lf_data.reset_index().head()"
      ],
      "execution_count": 46,
      "outputs": [
        {
          "output_type": "execute_result",
          "data": {
            "text/html": [
              "<div>\n",
              "<style scoped>\n",
              "    .dataframe tbody tr th:only-of-type {\n",
              "        vertical-align: middle;\n",
              "    }\n",
              "\n",
              "    .dataframe tbody tr th {\n",
              "        vertical-align: top;\n",
              "    }\n",
              "\n",
              "    .dataframe thead th {\n",
              "        text-align: right;\n",
              "    }\n",
              "</style>\n",
              "<table border=\"1\" class=\"dataframe\">\n",
              "  <thead>\n",
              "    <tr style=\"text-align: right;\">\n",
              "      <th></th>\n",
              "      <th>CustomerID</th>\n",
              "      <th>frequency</th>\n",
              "      <th>recency</th>\n",
              "      <th>T</th>\n",
              "      <th>monetary_value</th>\n",
              "      <th>pred_num_txn</th>\n",
              "      <th>pred_txn_value</th>\n",
              "    </tr>\n",
              "  </thead>\n",
              "  <tbody>\n",
              "    <tr>\n",
              "      <th>0</th>\n",
              "      <td>12346.0</td>\n",
              "      <td>0.0</td>\n",
              "      <td>0.0</td>\n",
              "      <td>325.0</td>\n",
              "      <td>0.000000</td>\n",
              "      <td>0.02</td>\n",
              "      <td>416.92</td>\n",
              "    </tr>\n",
              "    <tr>\n",
              "      <th>1</th>\n",
              "      <td>12347.0</td>\n",
              "      <td>6.0</td>\n",
              "      <td>365.0</td>\n",
              "      <td>367.0</td>\n",
              "      <td>599.701667</td>\n",
              "      <td>0.16</td>\n",
              "      <td>569.99</td>\n",
              "    </tr>\n",
              "    <tr>\n",
              "      <th>2</th>\n",
              "      <td>12348.0</td>\n",
              "      <td>3.0</td>\n",
              "      <td>283.0</td>\n",
              "      <td>358.0</td>\n",
              "      <td>301.480000</td>\n",
              "      <td>0.09</td>\n",
              "      <td>333.76</td>\n",
              "    </tr>\n",
              "    <tr>\n",
              "      <th>3</th>\n",
              "      <td>12349.0</td>\n",
              "      <td>0.0</td>\n",
              "      <td>0.0</td>\n",
              "      <td>18.0</td>\n",
              "      <td>0.000000</td>\n",
              "      <td>0.10</td>\n",
              "      <td>416.92</td>\n",
              "    </tr>\n",
              "    <tr>\n",
              "      <th>4</th>\n",
              "      <td>12350.0</td>\n",
              "      <td>0.0</td>\n",
              "      <td>0.0</td>\n",
              "      <td>310.0</td>\n",
              "      <td>0.000000</td>\n",
              "      <td>0.02</td>\n",
              "      <td>416.92</td>\n",
              "    </tr>\n",
              "  </tbody>\n",
              "</table>\n",
              "</div>"
            ],
            "text/plain": [
              "   CustomerID  frequency  recency  ...  monetary_value  pred_num_txn  pred_txn_value\n",
              "0     12346.0        0.0      0.0  ...        0.000000          0.02          416.92\n",
              "1     12347.0        6.0    365.0  ...      599.701667          0.16          569.99\n",
              "2     12348.0        3.0    283.0  ...      301.480000          0.09          333.76\n",
              "3     12349.0        0.0      0.0  ...        0.000000          0.10          416.92\n",
              "4     12350.0        0.0      0.0  ...        0.000000          0.02          416.92\n",
              "\n",
              "[5 rows x 7 columns]"
            ]
          },
          "metadata": {
            "tags": []
          },
          "execution_count": 46
        }
      ]
    },
    {
      "cell_type": "code",
      "metadata": {
        "colab": {
          "base_uri": "https://localhost:8080/",
          "height": 335
        },
        "id": "fjR6w3t7Ldt_",
        "outputId": "ea7367d4-064e-4d3e-928b-84b5deb64f6f"
      },
      "source": [
        "lf_data['CLV'] = round(ggf.customer_lifetime_value(bgf, # the model to use to predict the no.of future transactions\n",
        "                                                   lf_data['frequency'],\n",
        "                                                   lf_data['recency'],\n",
        "                                                   lf_data['T'],\n",
        "                                                   lf_data['monetary_value'],\n",
        "                                                   time = 12, # months\n",
        "                                                   discount_rate = 0.01 # monthly discount rate ~ 12.7% annually\n",
        "                                                   ), 2)\n",
        "lf_data.drop(lf_data.iloc[:, 0:6], inplace=True, axis=1)\n",
        "lf_data.sort_values(by = 'CLV', ascending=False).reset_index().head(10)"
      ],
      "execution_count": 47,
      "outputs": [
        {
          "output_type": "execute_result",
          "data": {
            "text/html": [
              "<div>\n",
              "<style scoped>\n",
              "    .dataframe tbody tr th:only-of-type {\n",
              "        vertical-align: middle;\n",
              "    }\n",
              "\n",
              "    .dataframe tbody tr th {\n",
              "        vertical-align: top;\n",
              "    }\n",
              "\n",
              "    .dataframe thead th {\n",
              "        text-align: right;\n",
              "    }\n",
              "</style>\n",
              "<table border=\"1\" class=\"dataframe\">\n",
              "  <thead>\n",
              "    <tr style=\"text-align: right;\">\n",
              "      <th></th>\n",
              "      <th>CustomerID</th>\n",
              "      <th>CLV</th>\n",
              "    </tr>\n",
              "  </thead>\n",
              "  <tbody>\n",
              "    <tr>\n",
              "      <th>0</th>\n",
              "      <td>14646.0</td>\n",
              "      <td>222128.93</td>\n",
              "    </tr>\n",
              "    <tr>\n",
              "      <th>1</th>\n",
              "      <td>18102.0</td>\n",
              "      <td>178895.33</td>\n",
              "    </tr>\n",
              "    <tr>\n",
              "      <th>2</th>\n",
              "      <td>16446.0</td>\n",
              "      <td>175531.47</td>\n",
              "    </tr>\n",
              "    <tr>\n",
              "      <th>3</th>\n",
              "      <td>17450.0</td>\n",
              "      <td>147476.62</td>\n",
              "    </tr>\n",
              "    <tr>\n",
              "      <th>4</th>\n",
              "      <td>14096.0</td>\n",
              "      <td>127589.20</td>\n",
              "    </tr>\n",
              "    <tr>\n",
              "      <th>5</th>\n",
              "      <td>14911.0</td>\n",
              "      <td>109442.13</td>\n",
              "    </tr>\n",
              "    <tr>\n",
              "      <th>6</th>\n",
              "      <td>12415.0</td>\n",
              "      <td>96290.23</td>\n",
              "    </tr>\n",
              "    <tr>\n",
              "      <th>7</th>\n",
              "      <td>14156.0</td>\n",
              "      <td>89410.33</td>\n",
              "    </tr>\n",
              "    <tr>\n",
              "      <th>8</th>\n",
              "      <td>17511.0</td>\n",
              "      <td>67660.41</td>\n",
              "    </tr>\n",
              "    <tr>\n",
              "      <th>9</th>\n",
              "      <td>16029.0</td>\n",
              "      <td>58729.62</td>\n",
              "    </tr>\n",
              "  </tbody>\n",
              "</table>\n",
              "</div>"
            ],
            "text/plain": [
              "   CustomerID        CLV\n",
              "0     14646.0  222128.93\n",
              "1     18102.0  178895.33\n",
              "2     16446.0  175531.47\n",
              "3     17450.0  147476.62\n",
              "4     14096.0  127589.20\n",
              "5     14911.0  109442.13\n",
              "6     12415.0   96290.23\n",
              "7     14156.0   89410.33\n",
              "8     17511.0   67660.41\n",
              "9     16029.0   58729.62"
            ]
          },
          "metadata": {
            "tags": []
          },
          "execution_count": 47
        }
      ]
    },
    {
      "cell_type": "code",
      "metadata": {
        "id": "HemveN7wr0WB"
      },
      "source": [
        ""
      ],
      "execution_count": null,
      "outputs": []
    }
  ]
}